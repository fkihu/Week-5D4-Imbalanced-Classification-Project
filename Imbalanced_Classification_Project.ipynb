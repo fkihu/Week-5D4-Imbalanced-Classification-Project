{
  "nbformat": 4,
  "nbformat_minor": 0,
  "metadata": {
    "colab": {
      "name": "Assignment: Imbalanced Classification Project.ipynb",
      "provenance": [],
      "collapsed_sections": [],
      "toc_visible": true
    },
    "kernelspec": {
      "name": "python3",
      "display_name": "Python 3"
    },
    "language_info": {
      "name": "python"
    }
  },
  "cells": [
    {
      "cell_type": "markdown",
      "metadata": {
        "id": "4tHoDhXRC98I"
      },
      "source": [
        "Problem Statement\n",
        "\n",
        "\n",
        "Beta Bank customers are leaving: little by little, chipping away every month. The bankers\n",
        "figured out it’s cheaper to save the existing customers rather than to attract new ones.\n",
        "We need to predict whether a customer will leave the bank soon. You have the data on\n",
        "clients’ past behavior and termination of contracts with the bank.\n",
        "Build a model with the maximum possible F1 score. To pass the project, you need an F1\n",
        "score of at least 0.59. Check the F1 for the test set.\n",
        "Additionally, measure the AUC-ROC metric and compare it with the F1.\n",
        "1. Download and prepare the data. Explain the procedure.\n",
        "2. Examine the balance of classes. Train the model without taking into account the\n",
        "imbalance. Briefly describe your findings.\n",
        "3. Improve the quality of the model. Make sure you use at least two approaches to\n",
        "fixing class imbalance. Use the training set to pick the best parameters. Train\n",
        "different models on training and validation sets. Find the best one. Briefly\n",
        "describe your findings.\n",
        "4. Perform the final testing.\n"
      ]
    },
    {
      "cell_type": "markdown",
      "metadata": {
        "id": "SieSwb67DJOd"
      },
      "source": [
        "**Data** **description**\n",
        "\n",
        "\n",
        "● Dataset URL (CSV File): https://bit.ly/2XZK7Bo\n",
        "\n",
        "\n",
        "\n",
        "● Features\n",
        "\n",
        "\n",
        "○ RowNumber — data string index\n",
        "\n",
        "○ CustomerId — unique customer identifier\n",
        "\n",
        "○ Surname — surname\n",
        "\n",
        "○ CreditScore — credit score\n",
        "\n",
        "○ Geography — country of residence\n",
        "\n",
        "○ Gender — gender\n",
        "\n",
        "○ Age — age\n",
        "\n",
        "○ Tenure — period of maturation for a customer’s fixed deposit (years)\n",
        "\n",
        "○ Balance — account balance\n",
        "\n",
        "○ NumOfProducts — number of banking products used by the customer\n",
        "\n",
        "○ HasCrCard — customer has a credit card\n",
        "\n",
        "○ IsActiveMember — customer’s activeness\n",
        "\n",
        "○ EstimatedSalary — estimated salary\n",
        "\n",
        "\n",
        "● Target\n",
        "○ Exited — сustomer has left"
      ]
    },
    {
      "cell_type": "markdown",
      "metadata": {
        "id": "FNWRY8exbEby"
      },
      "source": [
        "Importing the data."
      ]
    },
    {
      "cell_type": "code",
      "metadata": {
        "id": "wvz-PN6Y_0Zh"
      },
      "source": [
        "# Importing the required libraries\n",
        "import pandas as pd\n",
        "import numpy as np "
      ],
      "execution_count": null,
      "outputs": []
    },
    {
      "cell_type": "markdown",
      "metadata": {
        "id": "br5NrVgcbPoh"
      },
      "source": [
        "Reading the data"
      ]
    },
    {
      "cell_type": "code",
      "metadata": {
        "colab": {
          "base_uri": "https://localhost:8080/",
          "height": 223
        },
        "id": "p7gbiAYaD-qR",
        "outputId": "6a3e1ca2-8cc2-4994-95d5-ed275cc40509"
      },
      "source": [
        "df = pd.read_csv('https://bit.ly/2XZK7Bo')\n",
        "df.head()"
      ],
      "execution_count": null,
      "outputs": [
        {
          "output_type": "execute_result",
          "data": {
            "text/html": [
              "<div>\n",
              "<style scoped>\n",
              "    .dataframe tbody tr th:only-of-type {\n",
              "        vertical-align: middle;\n",
              "    }\n",
              "\n",
              "    .dataframe tbody tr th {\n",
              "        vertical-align: top;\n",
              "    }\n",
              "\n",
              "    .dataframe thead th {\n",
              "        text-align: right;\n",
              "    }\n",
              "</style>\n",
              "<table border=\"1\" class=\"dataframe\">\n",
              "  <thead>\n",
              "    <tr style=\"text-align: right;\">\n",
              "      <th></th>\n",
              "      <th>RowNumber</th>\n",
              "      <th>CustomerId</th>\n",
              "      <th>Surname</th>\n",
              "      <th>CreditScore</th>\n",
              "      <th>Geography</th>\n",
              "      <th>Gender</th>\n",
              "      <th>Age</th>\n",
              "      <th>Tenure</th>\n",
              "      <th>Balance</th>\n",
              "      <th>NumOfProducts</th>\n",
              "      <th>HasCrCard</th>\n",
              "      <th>IsActiveMember</th>\n",
              "      <th>EstimatedSalary</th>\n",
              "      <th>Exited</th>\n",
              "    </tr>\n",
              "  </thead>\n",
              "  <tbody>\n",
              "    <tr>\n",
              "      <th>0</th>\n",
              "      <td>1</td>\n",
              "      <td>15634602</td>\n",
              "      <td>Hargrave</td>\n",
              "      <td>619</td>\n",
              "      <td>France</td>\n",
              "      <td>Female</td>\n",
              "      <td>42</td>\n",
              "      <td>2.0</td>\n",
              "      <td>0.00</td>\n",
              "      <td>1</td>\n",
              "      <td>1</td>\n",
              "      <td>1</td>\n",
              "      <td>101348.88</td>\n",
              "      <td>1</td>\n",
              "    </tr>\n",
              "    <tr>\n",
              "      <th>1</th>\n",
              "      <td>2</td>\n",
              "      <td>15647311</td>\n",
              "      <td>Hill</td>\n",
              "      <td>608</td>\n",
              "      <td>Spain</td>\n",
              "      <td>Female</td>\n",
              "      <td>41</td>\n",
              "      <td>1.0</td>\n",
              "      <td>83807.86</td>\n",
              "      <td>1</td>\n",
              "      <td>0</td>\n",
              "      <td>1</td>\n",
              "      <td>112542.58</td>\n",
              "      <td>0</td>\n",
              "    </tr>\n",
              "    <tr>\n",
              "      <th>2</th>\n",
              "      <td>3</td>\n",
              "      <td>15619304</td>\n",
              "      <td>Onio</td>\n",
              "      <td>502</td>\n",
              "      <td>France</td>\n",
              "      <td>Female</td>\n",
              "      <td>42</td>\n",
              "      <td>8.0</td>\n",
              "      <td>159660.80</td>\n",
              "      <td>3</td>\n",
              "      <td>1</td>\n",
              "      <td>0</td>\n",
              "      <td>113931.57</td>\n",
              "      <td>1</td>\n",
              "    </tr>\n",
              "    <tr>\n",
              "      <th>3</th>\n",
              "      <td>4</td>\n",
              "      <td>15701354</td>\n",
              "      <td>Boni</td>\n",
              "      <td>699</td>\n",
              "      <td>France</td>\n",
              "      <td>Female</td>\n",
              "      <td>39</td>\n",
              "      <td>1.0</td>\n",
              "      <td>0.00</td>\n",
              "      <td>2</td>\n",
              "      <td>0</td>\n",
              "      <td>0</td>\n",
              "      <td>93826.63</td>\n",
              "      <td>0</td>\n",
              "    </tr>\n",
              "    <tr>\n",
              "      <th>4</th>\n",
              "      <td>5</td>\n",
              "      <td>15737888</td>\n",
              "      <td>Mitchell</td>\n",
              "      <td>850</td>\n",
              "      <td>Spain</td>\n",
              "      <td>Female</td>\n",
              "      <td>43</td>\n",
              "      <td>2.0</td>\n",
              "      <td>125510.82</td>\n",
              "      <td>1</td>\n",
              "      <td>1</td>\n",
              "      <td>1</td>\n",
              "      <td>79084.10</td>\n",
              "      <td>0</td>\n",
              "    </tr>\n",
              "  </tbody>\n",
              "</table>\n",
              "</div>"
            ],
            "text/plain": [
              "   RowNumber  CustomerId   Surname  ...  IsActiveMember EstimatedSalary Exited\n",
              "0          1    15634602  Hargrave  ...               1       101348.88      1\n",
              "1          2    15647311      Hill  ...               1       112542.58      0\n",
              "2          3    15619304      Onio  ...               0       113931.57      1\n",
              "3          4    15701354      Boni  ...               0        93826.63      0\n",
              "4          5    15737888  Mitchell  ...               1        79084.10      0\n",
              "\n",
              "[5 rows x 14 columns]"
            ]
          },
          "metadata": {},
          "execution_count": 3
        }
      ]
    },
    {
      "cell_type": "code",
      "metadata": {
        "colab": {
          "base_uri": "https://localhost:8080/"
        },
        "id": "cmk-MAbbEhcw",
        "outputId": "297f197b-84fc-48fa-d2d9-ce38a370cb65"
      },
      "source": [
        "# Checking the data shape\n",
        "df.shape"
      ],
      "execution_count": null,
      "outputs": [
        {
          "output_type": "execute_result",
          "data": {
            "text/plain": [
              "(10000, 14)"
            ]
          },
          "metadata": {},
          "execution_count": 5
        }
      ]
    },
    {
      "cell_type": "code",
      "metadata": {
        "colab": {
          "base_uri": "https://localhost:8080/"
        },
        "id": "IwSo_1lCEVC4",
        "outputId": "8735611c-0b5a-438c-90e2-b46dd1983196"
      },
      "source": [
        "# Checking for nulls in the data\n",
        "df.isnull().sum()"
      ],
      "execution_count": null,
      "outputs": [
        {
          "output_type": "execute_result",
          "data": {
            "text/plain": [
              "RowNumber            0\n",
              "CustomerId           0\n",
              "Surname              0\n",
              "CreditScore          0\n",
              "Geography            0\n",
              "Gender               0\n",
              "Age                  0\n",
              "Tenure             909\n",
              "Balance              0\n",
              "NumOfProducts        0\n",
              "HasCrCard            0\n",
              "IsActiveMember       0\n",
              "EstimatedSalary      0\n",
              "Exited               0\n",
              "dtype: int64"
            ]
          },
          "metadata": {},
          "execution_count": 4
        }
      ]
    },
    {
      "cell_type": "markdown",
      "metadata": {
        "id": "a_W33cWTEc-A"
      },
      "source": [
        "Observation: The Tenure column has 909 null values. Seeing that this is an important feature to use in training the model, I've decided to drop the 909 observations, but maintain the column."
      ]
    },
    {
      "cell_type": "code",
      "metadata": {
        "id": "i5BOT6O_E--v"
      },
      "source": [
        "# Dropping the 909 observations with null values in 'Tenure'\n",
        "df = df.dropna(axis=0, subset=['Tenure'])"
      ],
      "execution_count": null,
      "outputs": []
    },
    {
      "cell_type": "code",
      "metadata": {
        "colab": {
          "base_uri": "https://localhost:8080/"
        },
        "id": "EqAlCiZQEmN_",
        "outputId": "c0a05edc-fe99-458a-d411-d61b55b22e36"
      },
      "source": [
        "# Confirming if the above step was successful\n",
        "df.isnull().sum()"
      ],
      "execution_count": null,
      "outputs": [
        {
          "output_type": "execute_result",
          "data": {
            "text/plain": [
              "RowNumber          0\n",
              "CustomerId         0\n",
              "Surname            0\n",
              "CreditScore        0\n",
              "Geography          0\n",
              "Gender             0\n",
              "Age                0\n",
              "Tenure             0\n",
              "Balance            0\n",
              "NumOfProducts      0\n",
              "HasCrCard          0\n",
              "IsActiveMember     0\n",
              "EstimatedSalary    0\n",
              "Exited             0\n",
              "dtype: int64"
            ]
          },
          "metadata": {},
          "execution_count": 14
        }
      ]
    },
    {
      "cell_type": "code",
      "metadata": {
        "colab": {
          "base_uri": "https://localhost:8080/",
          "height": 315
        },
        "id": "Xq59abfNLhwU",
        "outputId": "5e0fd655-bfb1-415a-f11f-b4c719d1c0e0"
      },
      "source": [
        "# Describing the data\n",
        "df.describe()"
      ],
      "execution_count": null,
      "outputs": [
        {
          "output_type": "execute_result",
          "data": {
            "text/html": [
              "<div>\n",
              "<style scoped>\n",
              "    .dataframe tbody tr th:only-of-type {\n",
              "        vertical-align: middle;\n",
              "    }\n",
              "\n",
              "    .dataframe tbody tr th {\n",
              "        vertical-align: top;\n",
              "    }\n",
              "\n",
              "    .dataframe thead th {\n",
              "        text-align: right;\n",
              "    }\n",
              "</style>\n",
              "<table border=\"1\" class=\"dataframe\">\n",
              "  <thead>\n",
              "    <tr style=\"text-align: right;\">\n",
              "      <th></th>\n",
              "      <th>RowNumber</th>\n",
              "      <th>CustomerId</th>\n",
              "      <th>CreditScore</th>\n",
              "      <th>Age</th>\n",
              "      <th>Tenure</th>\n",
              "      <th>Balance</th>\n",
              "      <th>NumOfProducts</th>\n",
              "      <th>HasCrCard</th>\n",
              "      <th>IsActiveMember</th>\n",
              "      <th>EstimatedSalary</th>\n",
              "      <th>Exited</th>\n",
              "    </tr>\n",
              "  </thead>\n",
              "  <tbody>\n",
              "    <tr>\n",
              "      <th>count</th>\n",
              "      <td>9091.000000</td>\n",
              "      <td>9.091000e+03</td>\n",
              "      <td>9091.000000</td>\n",
              "      <td>9091.000000</td>\n",
              "      <td>9091.000000</td>\n",
              "      <td>9091.000000</td>\n",
              "      <td>9091.000000</td>\n",
              "      <td>9091.000000</td>\n",
              "      <td>9091.000000</td>\n",
              "      <td>9091.000000</td>\n",
              "      <td>9091.000000</td>\n",
              "    </tr>\n",
              "    <tr>\n",
              "      <th>mean</th>\n",
              "      <td>5013.909911</td>\n",
              "      <td>1.569105e+07</td>\n",
              "      <td>650.736553</td>\n",
              "      <td>38.949181</td>\n",
              "      <td>4.997690</td>\n",
              "      <td>76522.740015</td>\n",
              "      <td>1.530195</td>\n",
              "      <td>0.704983</td>\n",
              "      <td>0.515565</td>\n",
              "      <td>100181.214924</td>\n",
              "      <td>0.203938</td>\n",
              "    </tr>\n",
              "    <tr>\n",
              "      <th>std</th>\n",
              "      <td>2884.433466</td>\n",
              "      <td>7.161419e+04</td>\n",
              "      <td>96.410471</td>\n",
              "      <td>10.555581</td>\n",
              "      <td>2.894723</td>\n",
              "      <td>62329.528576</td>\n",
              "      <td>0.581003</td>\n",
              "      <td>0.456076</td>\n",
              "      <td>0.499785</td>\n",
              "      <td>57624.755647</td>\n",
              "      <td>0.402946</td>\n",
              "    </tr>\n",
              "    <tr>\n",
              "      <th>min</th>\n",
              "      <td>1.000000</td>\n",
              "      <td>1.556570e+07</td>\n",
              "      <td>350.000000</td>\n",
              "      <td>18.000000</td>\n",
              "      <td>0.000000</td>\n",
              "      <td>0.000000</td>\n",
              "      <td>1.000000</td>\n",
              "      <td>0.000000</td>\n",
              "      <td>0.000000</td>\n",
              "      <td>11.580000</td>\n",
              "      <td>0.000000</td>\n",
              "    </tr>\n",
              "    <tr>\n",
              "      <th>25%</th>\n",
              "      <td>2521.500000</td>\n",
              "      <td>1.562899e+07</td>\n",
              "      <td>584.000000</td>\n",
              "      <td>32.000000</td>\n",
              "      <td>2.000000</td>\n",
              "      <td>0.000000</td>\n",
              "      <td>1.000000</td>\n",
              "      <td>0.000000</td>\n",
              "      <td>0.000000</td>\n",
              "      <td>51227.745000</td>\n",
              "      <td>0.000000</td>\n",
              "    </tr>\n",
              "    <tr>\n",
              "      <th>50%</th>\n",
              "      <td>5019.000000</td>\n",
              "      <td>1.569106e+07</td>\n",
              "      <td>652.000000</td>\n",
              "      <td>37.000000</td>\n",
              "      <td>5.000000</td>\n",
              "      <td>97318.250000</td>\n",
              "      <td>1.000000</td>\n",
              "      <td>1.000000</td>\n",
              "      <td>1.000000</td>\n",
              "      <td>100240.200000</td>\n",
              "      <td>0.000000</td>\n",
              "    </tr>\n",
              "    <tr>\n",
              "      <th>75%</th>\n",
              "      <td>7511.500000</td>\n",
              "      <td>1.575285e+07</td>\n",
              "      <td>717.000000</td>\n",
              "      <td>44.000000</td>\n",
              "      <td>7.000000</td>\n",
              "      <td>127561.890000</td>\n",
              "      <td>2.000000</td>\n",
              "      <td>1.000000</td>\n",
              "      <td>1.000000</td>\n",
              "      <td>149567.210000</td>\n",
              "      <td>0.000000</td>\n",
              "    </tr>\n",
              "    <tr>\n",
              "      <th>max</th>\n",
              "      <td>9999.000000</td>\n",
              "      <td>1.581566e+07</td>\n",
              "      <td>850.000000</td>\n",
              "      <td>92.000000</td>\n",
              "      <td>10.000000</td>\n",
              "      <td>250898.090000</td>\n",
              "      <td>4.000000</td>\n",
              "      <td>1.000000</td>\n",
              "      <td>1.000000</td>\n",
              "      <td>199992.480000</td>\n",
              "      <td>1.000000</td>\n",
              "    </tr>\n",
              "  </tbody>\n",
              "</table>\n",
              "</div>"
            ],
            "text/plain": [
              "         RowNumber    CustomerId  ...  EstimatedSalary       Exited\n",
              "count  9091.000000  9.091000e+03  ...      9091.000000  9091.000000\n",
              "mean   5013.909911  1.569105e+07  ...    100181.214924     0.203938\n",
              "std    2884.433466  7.161419e+04  ...     57624.755647     0.402946\n",
              "min       1.000000  1.556570e+07  ...        11.580000     0.000000\n",
              "25%    2521.500000  1.562899e+07  ...     51227.745000     0.000000\n",
              "50%    5019.000000  1.569106e+07  ...    100240.200000     0.000000\n",
              "75%    7511.500000  1.575285e+07  ...    149567.210000     0.000000\n",
              "max    9999.000000  1.581566e+07  ...    199992.480000     1.000000\n",
              "\n",
              "[8 rows x 11 columns]"
            ]
          },
          "metadata": {},
          "execution_count": 15
        }
      ]
    },
    {
      "cell_type": "code",
      "metadata": {
        "colab": {
          "base_uri": "https://localhost:8080/"
        },
        "id": "SiG8IazOLsnk",
        "outputId": "5bf5638b-63db-45f4-ead9-56c07927dd11"
      },
      "source": [
        "df.dtypes"
      ],
      "execution_count": null,
      "outputs": [
        {
          "output_type": "execute_result",
          "data": {
            "text/plain": [
              "RowNumber            int64\n",
              "CustomerId           int64\n",
              "Surname             object\n",
              "CreditScore          int64\n",
              "Geography           object\n",
              "Gender              object\n",
              "Age                  int64\n",
              "Tenure             float64\n",
              "Balance            float64\n",
              "NumOfProducts        int64\n",
              "HasCrCard            int64\n",
              "IsActiveMember       int64\n",
              "EstimatedSalary    float64\n",
              "Exited               int64\n",
              "dtype: object"
            ]
          },
          "metadata": {},
          "execution_count": 16
        }
      ]
    },
    {
      "cell_type": "code",
      "metadata": {
        "id": "DPqDcq-7L4aK"
      },
      "source": [
        "# Dropping the irrelevant columns i.e. RowNumber and Surname\n",
        "df = df.drop(['RowNumber', 'Surname'], axis = 1)"
      ],
      "execution_count": null,
      "outputs": []
    },
    {
      "cell_type": "code",
      "metadata": {
        "colab": {
          "base_uri": "https://localhost:8080/",
          "height": 203
        },
        "id": "CTl-IrF9RXr_",
        "outputId": "96c0cebe-bd3a-4a4d-d852-42b3cb5265d0"
      },
      "source": [
        "# Transforming the Geography and Gender columns using One Hot Encoding \n",
        "\n",
        "dummies_df = pd.get_dummies(df[['Geography', 'Gender']])\n",
        "dummies_df.head()"
      ],
      "execution_count": null,
      "outputs": [
        {
          "output_type": "execute_result",
          "data": {
            "text/html": [
              "<div>\n",
              "<style scoped>\n",
              "    .dataframe tbody tr th:only-of-type {\n",
              "        vertical-align: middle;\n",
              "    }\n",
              "\n",
              "    .dataframe tbody tr th {\n",
              "        vertical-align: top;\n",
              "    }\n",
              "\n",
              "    .dataframe thead th {\n",
              "        text-align: right;\n",
              "    }\n",
              "</style>\n",
              "<table border=\"1\" class=\"dataframe\">\n",
              "  <thead>\n",
              "    <tr style=\"text-align: right;\">\n",
              "      <th></th>\n",
              "      <th>Geography_France</th>\n",
              "      <th>Geography_Germany</th>\n",
              "      <th>Geography_Spain</th>\n",
              "      <th>Gender_Female</th>\n",
              "      <th>Gender_Male</th>\n",
              "    </tr>\n",
              "  </thead>\n",
              "  <tbody>\n",
              "    <tr>\n",
              "      <th>0</th>\n",
              "      <td>1</td>\n",
              "      <td>0</td>\n",
              "      <td>0</td>\n",
              "      <td>1</td>\n",
              "      <td>0</td>\n",
              "    </tr>\n",
              "    <tr>\n",
              "      <th>1</th>\n",
              "      <td>0</td>\n",
              "      <td>0</td>\n",
              "      <td>1</td>\n",
              "      <td>1</td>\n",
              "      <td>0</td>\n",
              "    </tr>\n",
              "    <tr>\n",
              "      <th>2</th>\n",
              "      <td>1</td>\n",
              "      <td>0</td>\n",
              "      <td>0</td>\n",
              "      <td>1</td>\n",
              "      <td>0</td>\n",
              "    </tr>\n",
              "    <tr>\n",
              "      <th>3</th>\n",
              "      <td>1</td>\n",
              "      <td>0</td>\n",
              "      <td>0</td>\n",
              "      <td>1</td>\n",
              "      <td>0</td>\n",
              "    </tr>\n",
              "    <tr>\n",
              "      <th>4</th>\n",
              "      <td>0</td>\n",
              "      <td>0</td>\n",
              "      <td>1</td>\n",
              "      <td>1</td>\n",
              "      <td>0</td>\n",
              "    </tr>\n",
              "  </tbody>\n",
              "</table>\n",
              "</div>"
            ],
            "text/plain": [
              "   Geography_France  Geography_Germany  ...  Gender_Female  Gender_Male\n",
              "0                 1                  0  ...              1            0\n",
              "1                 0                  0  ...              1            0\n",
              "2                 1                  0  ...              1            0\n",
              "3                 1                  0  ...              1            0\n",
              "4                 0                  0  ...              1            0\n",
              "\n",
              "[5 rows x 5 columns]"
            ]
          },
          "metadata": {},
          "execution_count": 26
        }
      ]
    },
    {
      "cell_type": "code",
      "metadata": {
        "colab": {
          "base_uri": "https://localhost:8080/",
          "height": 117
        },
        "id": "0t5zAUVpSKt2",
        "outputId": "6ce9beff-e775-4dfb-8347-e41a8b6ad914"
      },
      "source": [
        "# Joining the dummies_df to the df dataframe\n",
        "\n",
        "new_df = pd.concat([df, dummies_df], axis=1, sort=False)\n",
        "print(new_df.shape)\n",
        "new_df.head(1)"
      ],
      "execution_count": null,
      "outputs": [
        {
          "output_type": "stream",
          "name": "stdout",
          "text": [
            "(9091, 17)\n"
          ]
        },
        {
          "output_type": "execute_result",
          "data": {
            "text/html": [
              "<div>\n",
              "<style scoped>\n",
              "    .dataframe tbody tr th:only-of-type {\n",
              "        vertical-align: middle;\n",
              "    }\n",
              "\n",
              "    .dataframe tbody tr th {\n",
              "        vertical-align: top;\n",
              "    }\n",
              "\n",
              "    .dataframe thead th {\n",
              "        text-align: right;\n",
              "    }\n",
              "</style>\n",
              "<table border=\"1\" class=\"dataframe\">\n",
              "  <thead>\n",
              "    <tr style=\"text-align: right;\">\n",
              "      <th></th>\n",
              "      <th>CustomerId</th>\n",
              "      <th>CreditScore</th>\n",
              "      <th>Geography</th>\n",
              "      <th>Gender</th>\n",
              "      <th>Age</th>\n",
              "      <th>Tenure</th>\n",
              "      <th>Balance</th>\n",
              "      <th>NumOfProducts</th>\n",
              "      <th>HasCrCard</th>\n",
              "      <th>IsActiveMember</th>\n",
              "      <th>EstimatedSalary</th>\n",
              "      <th>Exited</th>\n",
              "      <th>Geography_France</th>\n",
              "      <th>Geography_Germany</th>\n",
              "      <th>Geography_Spain</th>\n",
              "      <th>Gender_Female</th>\n",
              "      <th>Gender_Male</th>\n",
              "    </tr>\n",
              "  </thead>\n",
              "  <tbody>\n",
              "    <tr>\n",
              "      <th>0</th>\n",
              "      <td>15634602</td>\n",
              "      <td>619</td>\n",
              "      <td>France</td>\n",
              "      <td>Female</td>\n",
              "      <td>42</td>\n",
              "      <td>2.0</td>\n",
              "      <td>0.0</td>\n",
              "      <td>1</td>\n",
              "      <td>1</td>\n",
              "      <td>1</td>\n",
              "      <td>101348.88</td>\n",
              "      <td>1</td>\n",
              "      <td>1</td>\n",
              "      <td>0</td>\n",
              "      <td>0</td>\n",
              "      <td>1</td>\n",
              "      <td>0</td>\n",
              "    </tr>\n",
              "  </tbody>\n",
              "</table>\n",
              "</div>"
            ],
            "text/plain": [
              "   CustomerId  CreditScore  ... Gender_Female Gender_Male\n",
              "0    15634602          619  ...             1           0\n",
              "\n",
              "[1 rows x 17 columns]"
            ]
          },
          "metadata": {},
          "execution_count": 35
        }
      ]
    },
    {
      "cell_type": "markdown",
      "metadata": {
        "id": "HIts1ijxa3Tv"
      },
      "source": [
        "Dropping the 'CustomerId', 'Geography' and 'Gender' columns since they are not relevant."
      ]
    },
    {
      "cell_type": "code",
      "metadata": {
        "id": "1A5YEA-vSb75"
      },
      "source": [
        "new_df = new_df.drop(['CustomerId', 'Geography', 'Gender'], axis = 1)"
      ],
      "execution_count": null,
      "outputs": []
    },
    {
      "cell_type": "markdown",
      "metadata": {
        "id": "KZbye8xKT1S1"
      },
      "source": [
        "Splitting the dataset into Training, Validation and Test dataset. This will be in the ratio of 60:20:20\n"
      ]
    },
    {
      "cell_type": "code",
      "metadata": {
        "id": "bixOsn4iTOGx"
      },
      "source": [
        "# Splitting the data into Training and Test sets\n",
        "\n",
        "from sklearn.model_selection import train_test_split\n",
        "\n",
        "new_df_train, new_df_test = train_test_split(new_df, test_size=0.20, random_state=12345)"
      ],
      "execution_count": null,
      "outputs": []
    },
    {
      "cell_type": "code",
      "metadata": {
        "colab": {
          "base_uri": "https://localhost:8080/"
        },
        "id": "X_yp88qDW54m",
        "outputId": "a64041bf-b065-4a10-e593-8374a73e2622"
      },
      "source": [
        "# checking the sizes of two datasets\n",
        "\n",
        "print(new_df_train.shape) #7272 records\n",
        "print(new_df_test.shape) #1819 records"
      ],
      "execution_count": null,
      "outputs": [
        {
          "output_type": "stream",
          "name": "stdout",
          "text": [
            "(7272, 14)\n",
            "(1819, 14)\n"
          ]
        }
      ]
    },
    {
      "cell_type": "code",
      "metadata": {
        "id": "gBnYj67dUR7O"
      },
      "source": [
        "# Defining the features and target\n",
        "\n",
        "features = new_df.drop('Exited', axis = 1)\n",
        "target = new_df['Exited']"
      ],
      "execution_count": null,
      "outputs": []
    },
    {
      "cell_type": "code",
      "metadata": {
        "id": "QnYNNS4kWqrk"
      },
      "source": [
        "#Splitting the training set into training and validation sets\n",
        "\n",
        "features_train, features_valid, target_train, target_valid = train_test_split(features, target, test_size = 0.20, random_state = 12345)\n",
        "\n",
        "# new_df_train, new_df_valid = train_test_split(new_df, test_size=0.20, random_state=12345)"
      ],
      "execution_count": null,
      "outputs": []
    },
    {
      "cell_type": "code",
      "metadata": {
        "id": "gnuccVD0X-kb"
      },
      "source": [
        "# Importing the classification models\n",
        "\n",
        "from sklearn.linear_model import LogisticRegression\n",
        "from sklearn.ensemble import RandomForestClassifier\n",
        "from sklearn.tree import DecisionTreeClassifier"
      ],
      "execution_count": null,
      "outputs": []
    },
    {
      "cell_type": "code",
      "metadata": {
        "id": "b8eqKs_vZ5Tl"
      },
      "source": [
        "# Creating the models\n",
        "model_lr = LogisticRegression(random_state=12345, solver='liblinear')\n",
        "model_rf = RandomForestClassifier(random_state=12345, n_estimators=3)\n",
        "model_dt = DecisionTreeClassifier(random_state=12345)"
      ],
      "execution_count": null,
      "outputs": []
    },
    {
      "cell_type": "markdown",
      "metadata": {
        "id": "SyCqaUsoipiH"
      },
      "source": [
        "Train the model without taking into account the\n",
        "imbalance. Briefly describe your findings."
      ]
    },
    {
      "cell_type": "code",
      "metadata": {
        "colab": {
          "base_uri": "https://localhost:8080/"
        },
        "id": "nVrw3aYzV55w",
        "outputId": "9fab4cad-e9e1-4eeb-cda9-6a75c8b018c6"
      },
      "source": [
        "# Training the models\n",
        "\n",
        "model_lr.fit(features_train, target_train)\n",
        "model_rf.fit(features_train, target_train)\n",
        "model_dt.fit(features_train, target_train)"
      ],
      "execution_count": null,
      "outputs": [
        {
          "output_type": "execute_result",
          "data": {
            "text/plain": [
              "DecisionTreeClassifier(ccp_alpha=0.0, class_weight=None, criterion='gini',\n",
              "                       max_depth=None, max_features=None, max_leaf_nodes=None,\n",
              "                       min_impurity_decrease=0.0, min_impurity_split=None,\n",
              "                       min_samples_leaf=1, min_samples_split=2,\n",
              "                       min_weight_fraction_leaf=0.0, presort='deprecated',\n",
              "                       random_state=12345, splitter='best')"
            ]
          },
          "metadata": {},
          "execution_count": 55
        }
      ]
    },
    {
      "cell_type": "code",
      "metadata": {
        "id": "q6Xmsj3mUd3j"
      },
      "source": [
        "# Making predictions using the three trained models\n",
        "\n",
        "lr_pred = model_lr.predict(features_valid) \n",
        "rf_pred = model_rf.predict(features_valid)\n",
        "dt_pred = model_dt.predict(features_valid)"
      ],
      "execution_count": null,
      "outputs": []
    },
    {
      "cell_type": "code",
      "metadata": {
        "colab": {
          "base_uri": "https://localhost:8080/"
        },
        "id": "7zEYSL90gu-U",
        "outputId": "d13a2bed-b0e7-46b2-f5f1-4cba62662d53"
      },
      "source": [
        "# Checking the accuracy of the three models\n",
        "\n",
        "from sklearn.metrics import f1_score\n",
        "\n",
        "print('Logistic Regression F1 score: ', f1_score(target_valid, lr_pred))\n",
        "print('Random Forest F1 score: ', f1_score(target_valid, rf_pred))\n",
        "print('Decision Tree Classifier F1 score: ', f1_score(target_valid, dt_pred))"
      ],
      "execution_count": null,
      "outputs": [
        {
          "output_type": "stream",
          "name": "stdout",
          "text": [
            "Logistic Regression F1 score:  0.07881773399014778\n",
            "Random Forest F1 score:  0.4820359281437126\n",
            "Decision Tree Classifier F1 score:  0.49934640522875823\n"
          ]
        }
      ]
    },
    {
      "cell_type": "markdown",
      "metadata": {
        "id": "DZwt9qLzmxOH"
      },
      "source": [
        "Examin the balance of classes"
      ]
    },
    {
      "cell_type": "code",
      "metadata": {
        "colab": {
          "base_uri": "https://localhost:8080/"
        },
        "id": "tRWxn4TGm0BE",
        "outputId": "fbabdf0d-29f0-4791-e2f4-d03bee6d0ac6"
      },
      "source": [
        "from sklearn.metrics import confusion_matrix\n",
        "\n",
        "print(\"Logistic Regression Confusion Matrix: \", confusion_matrix(target_valid, lr_pred))\n",
        "print(\"Random Forest Confusion Matrix: \", confusion_matrix(target_valid, rf_pred))\n",
        "print(\"Decision Tree Confusion Matrix: \",confusion_matrix(target_valid, dt_pred))"
      ],
      "execution_count": null,
      "outputs": [
        {
          "output_type": "stream",
          "name": "stdout",
          "text": [
            "Logistic Regression Confusion Matrix:  [[1429   21]\n",
            " [ 353   16]]\n",
            "Random Forest Confusion Matrix:  [[1312  138]\n",
            " [ 208  161]]\n",
            "Decision Tree Confusion Matrix:  [[1245  205]\n",
            " [ 178  191]]\n"
          ]
        }
      ]
    },
    {
      "cell_type": "markdown",
      "metadata": {
        "id": "1tQRezwPhf3h"
      },
      "source": [
        "Observations: There is quite a considerable imbalance of the classes, seeing that the false positives and false negatives are considerably high across all the three models.\n",
        "\n",
        "The F1 scores are also quite low, with Decision Tree Classifier scoring the highest at 0.499. This is below the required threshold of 0.59."
      ]
    },
    {
      "cell_type": "code",
      "metadata": {
        "id": "-9wN506GlO9o"
      },
      "source": [
        "random_state=12345, class_weight='balanced', solver='liblinear'"
      ],
      "execution_count": null,
      "outputs": []
    },
    {
      "cell_type": "markdown",
      "metadata": {
        "id": "DMjCXXf0oJP5"
      },
      "source": [
        "Retraining the models after addressing the imbalance of classes"
      ]
    },
    {
      "cell_type": "code",
      "metadata": {
        "id": "BM5FsLMgoXWw"
      },
      "source": [
        "model_lr = LogisticRegression(random_state=12345, class_weight='balanced', solver='liblinear')\n",
        "model_rf = RandomForestClassifier(random_state=12345, n_estimators=3, class_weight = 'balanced')\n",
        "model_dt = DecisionTreeClassifier(random_state=12345, class_weight = 'balanced')"
      ],
      "execution_count": null,
      "outputs": []
    },
    {
      "cell_type": "code",
      "metadata": {
        "colab": {
          "base_uri": "https://localhost:8080/"
        },
        "id": "rnsVv7qnp8pM",
        "outputId": "d301fa91-77f3-4086-a6b6-825320a6132a"
      },
      "source": [
        "model_lr.fit(features_train, target_train)\n",
        "model_rf.fit(features_train, target_train)\n",
        "model_dt.fit(features_train, target_train)\n",
        "\n",
        "lr_pred = model_lr.predict(features_valid)\n",
        "rf_pred = model_rf.predict(features_valid)\n",
        "dt_pred = model_dt.predict(features_valid)\n",
        "\n",
        "print('Logistic Regression F1 score: ', f1_score(target_valid, lr_pred))\n",
        "print(\"Random Forest F1 score: \", f1_score(target_valid, rf_pred))\n",
        "print(\"Decision Tree F1 score: \",f1_score(target_valid, dt_pred))"
      ],
      "execution_count": null,
      "outputs": [
        {
          "output_type": "stream",
          "name": "stdout",
          "text": [
            "Logistic Regression F1 score:  0.5152091254752852\n",
            "Random Forest F1 score:  0.5022026431718062\n",
            "Decision Tree F1 score:  0.4918032786885246\n"
          ]
        }
      ]
    },
    {
      "cell_type": "markdown",
      "metadata": {
        "id": "6iv4CjT1rAdJ"
      },
      "source": [
        "Observation: After defining the hyper parameter for class_weight, the F1 score for the three models improved, with the logistic regression model improving the most."
      ]
    },
    {
      "cell_type": "code",
      "metadata": {
        "colab": {
          "base_uri": "https://localhost:8080/"
        },
        "id": "Yr9ZGLKjt3gy",
        "outputId": "d9926b05-2f3b-4c2d-85ee-b4733508bb55"
      },
      "source": [
        "# Finding the best depth for the Random Forest model\n",
        "\n",
        "for depth in range(1, 10):\n",
        "        model_rf = RandomForestClassifier(random_state=12345, n_estimators=3, class_weight = 'balanced',max_depth = depth)\n",
        "\n",
        "        model_rf.fit(features_train, target_train) \n",
        "\n",
        "        rf_pred = model_rf.predict(features_valid) \n",
        "\n",
        "        print(\"max_depth =\", depth, \": \", end='')\n",
        "        print(f1_score(target_valid, rf_pred))"
      ],
      "execution_count": null,
      "outputs": [
        {
          "output_type": "stream",
          "name": "stdout",
          "text": [
            "max_depth = 1 : 0.48893572181243417\n",
            "max_depth = 2 : 0.5351239669421488\n",
            "max_depth = 3 : 0.5244536940686785\n",
            "max_depth = 4 : 0.5704845814977973\n",
            "max_depth = 5 : 0.570203644158628\n",
            "max_depth = 6 : 0.5652620760534429\n",
            "max_depth = 7 : 0.5727590221187427\n",
            "max_depth = 8 : 0.5565410199556541\n",
            "max_depth = 9 : 0.5672727272727273\n"
          ]
        }
      ]
    },
    {
      "cell_type": "markdown",
      "metadata": {
        "id": "oj4K59JbvMQP"
      },
      "source": [
        "Observation: The best F1 score comes at Max_depth of 7 for the Random Forest(0.5727590221187427)."
      ]
    },
    {
      "cell_type": "code",
      "metadata": {
        "colab": {
          "base_uri": "https://localhost:8080/"
        },
        "id": "txwOVErGveYA",
        "outputId": "78c46be2-0b33-4bf2-df3e-7a9bfe12abe5"
      },
      "source": [
        "# Finding the best depth for the Decision Tree model\n",
        "\n",
        "for depth in range(1, 10):\n",
        "        model_dt = DecisionTreeClassifier(random_state=12345, class_weight = 'balanced', max_depth = depth)\n",
        "\n",
        "        model_dt.fit(features_train, target_train) \n",
        "\n",
        "        dt_pred = model_dt.predict(features_valid) \n",
        "\n",
        "        print(\"max_depth =\", depth, \": \", end='')\n",
        "        print(f1_score(target_valid, dt_pred))"
      ],
      "execution_count": null,
      "outputs": [
        {
          "output_type": "stream",
          "name": "stdout",
          "text": [
            "max_depth = 1 : 0.48893572181243417\n",
            "max_depth = 2 : 0.51340206185567\n",
            "max_depth = 3 : 0.5285868392664509\n",
            "max_depth = 4 : 0.5337026777469991\n",
            "max_depth = 5 : 0.5661538461538461\n",
            "max_depth = 6 : 0.5454545454545453\n",
            "max_depth = 7 : 0.5550239234449761\n",
            "max_depth = 8 : 0.5372549019607843\n",
            "max_depth = 9 : 0.5441176470588236\n"
          ]
        }
      ]
    },
    {
      "cell_type": "markdown",
      "metadata": {
        "id": "8k_42RQxv1f8"
      },
      "source": [
        "Observation: The best F1 score comes at Max_depth of 5 for the Decision Tree (0.5661538461538461)"
      ]
    },
    {
      "cell_type": "code",
      "metadata": {
        "colab": {
          "base_uri": "https://localhost:8080/"
        },
        "id": "RqowPSLP0yLv",
        "outputId": "d4495ce2-af52-4cb7-ab55-e5614cb3a49c"
      },
      "source": [
        "# Finding the best n_estimator for the Random Forest model\n",
        "\n",
        "for n_est in range(11, 20):\n",
        "        model_rf = RandomForestClassifier(random_state=12345, n_estimators=n_est, class_weight = 'balanced',max_depth = 7)\n",
        "\n",
        "        model_rf.fit(features_train, target_train) \n",
        "\n",
        "        rf_pred = model_rf.predict(features_valid) \n",
        "\n",
        "        print(\"n_estimator =\", n_est, \": \", end='')\n",
        "        print(f1_score(target_valid, rf_pred))"
      ],
      "execution_count": null,
      "outputs": [
        {
          "output_type": "stream",
          "name": "stdout",
          "text": [
            "n_estimator = 11 : 0.6037735849056604\n",
            "n_estimator = 12 : 0.6068476977567886\n",
            "n_estimator = 13 : 0.6173708920187794\n",
            "n_estimator = 14 : 0.6093023255813954\n",
            "n_estimator = 15 : 0.6186046511627907\n",
            "n_estimator = 16 : 0.6119577960140681\n",
            "n_estimator = 17 : 0.6102088167053364\n",
            "n_estimator = 18 : 0.6157407407407408\n",
            "n_estimator = 19 : 0.610011641443539\n"
          ]
        }
      ]
    },
    {
      "cell_type": "markdown",
      "metadata": {
        "id": "oKhMerHA1Rwe"
      },
      "source": [
        "Best n_estimator is 15 which gives F1 score of 0.6186046511627907"
      ]
    },
    {
      "cell_type": "code",
      "metadata": {
        "id": "93esXVpIzTFJ"
      },
      "source": [
        "# Recreating the models with the improved parameters\n",
        "model_lr = LogisticRegression(random_state=12345, class_weight='balanced', solver='liblinear')\n",
        "model_rf = RandomForestClassifier(random_state=12345, n_estimators=15, class_weight = 'balanced', max_depth = 7)\n",
        "model_dt = DecisionTreeClassifier(random_state=12345, class_weight = 'balanced', max_depth = 5)"
      ],
      "execution_count": null,
      "outputs": []
    },
    {
      "cell_type": "code",
      "metadata": {
        "colab": {
          "base_uri": "https://localhost:8080/"
        },
        "id": "QlNolk8O0D3s",
        "outputId": "d64185f3-f53b-4b9b-aefa-e441db86a105"
      },
      "source": [
        "# Retraining the models\n",
        "model_lr.fit(features_train, target_train)\n",
        "model_rf.fit(features_train, target_train)\n",
        "model_dt.fit(features_train, target_train)"
      ],
      "execution_count": null,
      "outputs": [
        {
          "output_type": "execute_result",
          "data": {
            "text/plain": [
              "DecisionTreeClassifier(ccp_alpha=0.0, class_weight='balanced', criterion='gini',\n",
              "                       max_depth=5, max_features=None, max_leaf_nodes=None,\n",
              "                       min_impurity_decrease=0.0, min_impurity_split=None,\n",
              "                       min_samples_leaf=1, min_samples_split=2,\n",
              "                       min_weight_fraction_leaf=0.0, presort='deprecated',\n",
              "                       random_state=12345, splitter='best')"
            ]
          },
          "metadata": {},
          "execution_count": 113
        }
      ]
    },
    {
      "cell_type": "markdown",
      "metadata": {
        "id": "PUADsbVsxtPI"
      },
      "source": [
        "Testing the models"
      ]
    },
    {
      "cell_type": "code",
      "metadata": {
        "id": "V3E7Q-ojxsZh"
      },
      "source": [
        "# Splitting the test dataset to features and target\n",
        "\n",
        "test_features = new_df_test.drop('Exited', axis = 1)\n",
        "test_target = new_df_test['Exited']"
      ],
      "execution_count": null,
      "outputs": []
    },
    {
      "cell_type": "code",
      "metadata": {
        "id": "YxbLmvBRyuJl"
      },
      "source": [
        "# Making predictions with the three trained models\n",
        "\n",
        "lr_pred = model_lr.predict(test_features)\n",
        "rf_pred = model_rf.predict(test_features)\n",
        "dt_pred = model_dt.predict(test_features)"
      ],
      "execution_count": null,
      "outputs": []
    },
    {
      "cell_type": "code",
      "metadata": {
        "colab": {
          "base_uri": "https://localhost:8080/"
        },
        "id": "1XnccX1YzAub",
        "outputId": "657c057e-5145-480c-9440-7e0f2d929792"
      },
      "source": [
        "# Evaluating the F1 Score for each model on the test dataset\n",
        "\n",
        "print('Logistic Regression F1 score: ', f1_score(test_target, lr_pred))\n",
        "print(\"Random Forest F1 score: \", f1_score(test_target, rf_pred))\n",
        "print(\"Decision Tree F1 score: \",f1_score(test_target, dt_pred))"
      ],
      "execution_count": null,
      "outputs": [
        {
          "output_type": "stream",
          "name": "stdout",
          "text": [
            "Logistic Regression F1 score:  0.5152091254752852\n",
            "Random Forest F1 score:  0.6186046511627907\n",
            "Decision Tree F1 score:  0.5661538461538461\n"
          ]
        }
      ]
    },
    {
      "cell_type": "markdown",
      "metadata": {
        "id": "YWcNCxQ01zWH"
      },
      "source": [
        "Findings: The best model is the Random Forest with F1 score of 0.6186046511627907."
      ]
    }
  ]
}